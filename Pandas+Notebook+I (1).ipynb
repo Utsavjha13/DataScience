{
 "cells": [
  {
   "cell_type": "markdown",
   "metadata": {},
   "source": [
    "## Python Libraries - Pandas - Pandas Basics"
   ]
  },
  {
   "cell_type": "markdown",
   "metadata": {},
   "source": [
    "Pandas is a library built using NumPy specifically for data analysis. You'll be using Pandas heavily for data manipulation, visualisation, building machine learning models, etc. \n",
    "\n",
    "There are two main data structures in Pandas:\n",
    "- Series\n",
    "- Dataframes \n",
    "\n",
    "The default way to store data is dataframes, and thus manipulating dataframes quickly is probably the most important skill set for data analysis."
   ]
  },
  {
   "cell_type": "code",
   "execution_count": null,
   "metadata": {},
   "outputs": [],
   "source": [
    "# import pandas, pd is an alias\n"
   ]
  },
  {
   "cell_type": "markdown",
   "metadata": {},
   "source": [
    "### The Pandas Series \n",
    "\n",
    "A series is similar to a 1-D numpy array, and contains scalar values of the same type (numeric, character, datetime etc.). \n",
    "A dataframe is simply a table where each column is a pandas series.\n"
   ]
  },
  {
   "cell_type": "code",
   "execution_count": 2,
   "metadata": {},
   "outputs": [
    {
     "name": "stdout",
     "output_type": "stream",
     "text": [
      "0    2\n",
      "1    4\n",
      "2    5\n",
      "3    6\n",
      "4    9\n",
      "dtype: int64\n",
      "<class 'pandas.core.series.Series'>\n"
     ]
    }
   ],
   "source": [
    "# Creating a numeric pandas series\n",
    "import pandas as pd\n",
    "s = pd.Series([2, 4, 5, 6, 9])\n",
    "print(s)\n",
    "print(type(s))"
   ]
  },
  {
   "cell_type": "code",
   "execution_count": null,
   "metadata": {},
   "outputs": [],
   "source": [
    "# creating a series of type datetime\n",
    "date_series = pd.date_range(start = '11-09-2017', end = '12-12-2017')\n",
    "date_series\n",
    "type(date_series)"
   ]
  },
  {
   "cell_type": "markdown",
   "metadata": {},
   "source": [
    "Note that each element in the Series has an index, and the index starts at 0 as usual."
   ]
  },
  {
   "cell_type": "markdown",
   "metadata": {},
   "source": [
    "### The Pandas Dataframe \n",
    "\n",
    "Dataframe is the most widely used data-structure in data analysis. It is a table with rows and columns, with rows having an index and columns having meaningful names.\n",
    "\n",
    "There are various ways of creating dataframes, such as creating them from dictionaries, JSON objects, reading from txt, CSV files, etc. "
   ]
  },
  {
   "cell_type": "markdown",
   "metadata": {},
   "source": [
    "#### Creating dataframes from dictionaries"
   ]
  },
  {
   "cell_type": "code",
   "execution_count": 5,
   "metadata": {},
   "outputs": [
    {
     "data": {
      "text/html": [
       "<div>\n",
       "<style scoped>\n",
       "    .dataframe tbody tr th:only-of-type {\n",
       "        vertical-align: middle;\n",
       "    }\n",
       "\n",
       "    .dataframe tbody tr th {\n",
       "        vertical-align: top;\n",
       "    }\n",
       "\n",
       "    .dataframe thead th {\n",
       "        text-align: right;\n",
       "    }\n",
       "</style>\n",
       "<table border=\"1\" class=\"dataframe\">\n",
       "  <thead>\n",
       "    <tr style=\"text-align: right;\">\n",
       "      <th></th>\n",
       "      <th>cars_per_cap</th>\n",
       "      <th>country</th>\n",
       "      <th>drives_right</th>\n",
       "    </tr>\n",
       "  </thead>\n",
       "  <tbody>\n",
       "    <tr>\n",
       "      <th>0</th>\n",
       "      <td>809</td>\n",
       "      <td>United States</td>\n",
       "      <td>False</td>\n",
       "    </tr>\n",
       "    <tr>\n",
       "      <th>1</th>\n",
       "      <td>731</td>\n",
       "      <td>Australia</td>\n",
       "      <td>True</td>\n",
       "    </tr>\n",
       "    <tr>\n",
       "      <th>2</th>\n",
       "      <td>588</td>\n",
       "      <td>Japan</td>\n",
       "      <td>True</td>\n",
       "    </tr>\n",
       "    <tr>\n",
       "      <th>3</th>\n",
       "      <td>18</td>\n",
       "      <td>India</td>\n",
       "      <td>True</td>\n",
       "    </tr>\n",
       "    <tr>\n",
       "      <th>4</th>\n",
       "      <td>200</td>\n",
       "      <td>Russia</td>\n",
       "      <td>False</td>\n",
       "    </tr>\n",
       "    <tr>\n",
       "      <th>5</th>\n",
       "      <td>70</td>\n",
       "      <td>Morocco</td>\n",
       "      <td>False</td>\n",
       "    </tr>\n",
       "    <tr>\n",
       "      <th>6</th>\n",
       "      <td>45</td>\n",
       "      <td>Egypt</td>\n",
       "      <td>False</td>\n",
       "    </tr>\n",
       "  </tbody>\n",
       "</table>\n",
       "</div>"
      ],
      "text/plain": [
       "   cars_per_cap        country  drives_right\n",
       "0           809  United States         False\n",
       "1           731      Australia          True\n",
       "2           588          Japan          True\n",
       "3            18          India          True\n",
       "4           200         Russia         False\n",
       "5            70        Morocco         False\n",
       "6            45          Egypt         False"
      ]
     },
     "execution_count": 5,
     "metadata": {},
     "output_type": "execute_result"
    }
   ],
   "source": [
    "# Defining data to create lists for dictionary\n",
    "import pandas as pd\n",
    "cars_per_cap = [809, 731, 588, 18, 200, 70, 45]\n",
    "country = ['United States', 'Australia', 'Japan', 'India', 'Russia', 'Morocco', 'Egypt']\n",
    "drives_right = [False, True, True, True, False, False, False]\n",
    "cars_dict = {\"cars_per_cap\" : cars_per_cap, \"country\" : country, \"drives_right\" : drives_right }\n",
    "\n",
    "# Create the dataframe 'cars'\n",
    "cars = pd.DataFrame(cars_dict)\n",
    "cars"
   ]
  },
  {
   "cell_type": "code",
   "execution_count": 11,
   "metadata": {},
   "outputs": [
    {
     "data": {
      "text/html": [
       "<div>\n",
       "<style scoped>\n",
       "    .dataframe tbody tr th:only-of-type {\n",
       "        vertical-align: middle;\n",
       "    }\n",
       "\n",
       "    .dataframe tbody tr th {\n",
       "        vertical-align: top;\n",
       "    }\n",
       "\n",
       "    .dataframe thead tr th {\n",
       "        text-align: left;\n",
       "    }\n",
       "</style>\n",
       "<table border=\"1\" class=\"dataframe\">\n",
       "  <thead>\n",
       "    <tr>\n",
       "      <th></th>\n",
       "      <th>809</th>\n",
       "      <th>731</th>\n",
       "      <th>588</th>\n",
       "      <th>18</th>\n",
       "      <th>200</th>\n",
       "      <th>70</th>\n",
       "      <th>45</th>\n",
       "    </tr>\n",
       "    <tr>\n",
       "      <th></th>\n",
       "      <th>United States</th>\n",
       "      <th>Australia</th>\n",
       "      <th>Japan</th>\n",
       "      <th>India</th>\n",
       "      <th>Russia</th>\n",
       "      <th>Morocco</th>\n",
       "      <th>Egypt</th>\n",
       "    </tr>\n",
       "    <tr>\n",
       "      <th></th>\n",
       "      <th>False</th>\n",
       "      <th>True</th>\n",
       "      <th>True</th>\n",
       "      <th>True</th>\n",
       "      <th>False</th>\n",
       "      <th>False</th>\n",
       "      <th>False</th>\n",
       "    </tr>\n",
       "  </thead>\n",
       "  <tbody>\n",
       "  </tbody>\n",
       "</table>\n",
       "</div>"
      ],
      "text/plain": [
       "Empty DataFrame\n",
       "Columns: [(809, United States, False), (731, Australia, True), (588, Japan, True), (18, India, True), (200, Russia, False), (70, Morocco, False), (45, Egypt, False)]\n",
       "Index: []"
      ]
     },
     "execution_count": 11,
     "metadata": {},
     "output_type": "execute_result"
    }
   ],
   "source": [
    "# Creating the dictionaries to store the entries as key-value pair.\n",
    "import pandas as pd\n",
    "cars_per_cap = [809, 731, 588, 18, 200, 70, 45]\n",
    "country = ['United States', 'Australia', 'Japan', 'India', 'Russia', 'Morocco', 'Egypt']\n",
    "drives_right = [False, True, True, True, False, False, False]\n",
    "cars_dict = {\"cars_per_cap\" : cars_per_cap, \"country\" : country, \"drives_right\" : drives_right }\n",
    "\n",
    "# Create the dataframe 'cars'\n",
    "cars = pd.DataFrame(cars_dict, columns=[cars_per_cap, country, drives_right])\n",
    "cars"
   ]
  },
  {
   "cell_type": "code",
   "execution_count": 19,
   "metadata": {},
   "outputs": [
    {
     "data": {
      "text/html": [
       "<div>\n",
       "<style scoped>\n",
       "    .dataframe tbody tr th:only-of-type {\n",
       "        vertical-align: middle;\n",
       "    }\n",
       "\n",
       "    .dataframe tbody tr th {\n",
       "        vertical-align: top;\n",
       "    }\n",
       "\n",
       "    .dataframe thead th {\n",
       "        text-align: right;\n",
       "    }\n",
       "</style>\n",
       "<table border=\"1\" class=\"dataframe\">\n",
       "  <thead>\n",
       "    <tr style=\"text-align: right;\">\n",
       "      <th></th>\n",
       "      <th>0</th>\n",
       "      <th>1</th>\n",
       "      <th>2</th>\n",
       "      <th>3</th>\n",
       "      <th>4</th>\n",
       "      <th>5</th>\n",
       "    </tr>\n",
       "  </thead>\n",
       "  <tbody>\n",
       "    <tr>\n",
       "      <th>0</th>\n",
       "      <td>1</td>\n",
       "      <td>Akshay</td>\n",
       "      <td>Mathematics</td>\n",
       "      <td>50</td>\n",
       "      <td>40</td>\n",
       "      <td>80</td>\n",
       "    </tr>\n",
       "    <tr>\n",
       "      <th>1</th>\n",
       "      <td>2</td>\n",
       "      <td>Mahima</td>\n",
       "      <td>English</td>\n",
       "      <td>40</td>\n",
       "      <td>33</td>\n",
       "      <td>83</td>\n",
       "    </tr>\n",
       "    <tr>\n",
       "      <th>2</th>\n",
       "      <td>3</td>\n",
       "      <td>Vikas</td>\n",
       "      <td>Mathematics</td>\n",
       "      <td>50</td>\n",
       "      <td>42</td>\n",
       "      <td>84</td>\n",
       "    </tr>\n",
       "    <tr>\n",
       "      <th>3</th>\n",
       "      <td>4</td>\n",
       "      <td>Abhinav</td>\n",
       "      <td>English</td>\n",
       "      <td>40</td>\n",
       "      <td>31</td>\n",
       "      <td>78</td>\n",
       "    </tr>\n",
       "    <tr>\n",
       "      <th>4</th>\n",
       "      <td>5</td>\n",
       "      <td>Mahima</td>\n",
       "      <td>Science</td>\n",
       "      <td>50</td>\n",
       "      <td>40</td>\n",
       "      <td>80</td>\n",
       "    </tr>\n",
       "    <tr>\n",
       "      <th>5</th>\n",
       "      <td>6</td>\n",
       "      <td>Akshay</td>\n",
       "      <td>Science</td>\n",
       "      <td>50</td>\n",
       "      <td>49</td>\n",
       "      <td>98</td>\n",
       "    </tr>\n",
       "    <tr>\n",
       "      <th>6</th>\n",
       "      <td>7</td>\n",
       "      <td>Abhinav</td>\n",
       "      <td>Mathematics</td>\n",
       "      <td>50</td>\n",
       "      <td>47</td>\n",
       "      <td>94</td>\n",
       "    </tr>\n",
       "    <tr>\n",
       "      <th>7</th>\n",
       "      <td>8</td>\n",
       "      <td>Vikas</td>\n",
       "      <td>Science</td>\n",
       "      <td>50</td>\n",
       "      <td>40</td>\n",
       "      <td>80</td>\n",
       "    </tr>\n",
       "    <tr>\n",
       "      <th>8</th>\n",
       "      <td>9</td>\n",
       "      <td>Abhinav</td>\n",
       "      <td>Science</td>\n",
       "      <td>50</td>\n",
       "      <td>47</td>\n",
       "      <td>94</td>\n",
       "    </tr>\n",
       "    <tr>\n",
       "      <th>9</th>\n",
       "      <td>10</td>\n",
       "      <td>Vikas</td>\n",
       "      <td>English</td>\n",
       "      <td>40</td>\n",
       "      <td>39</td>\n",
       "      <td>98</td>\n",
       "    </tr>\n",
       "    <tr>\n",
       "      <th>10</th>\n",
       "      <td>11</td>\n",
       "      <td>Akshay</td>\n",
       "      <td>English</td>\n",
       "      <td>40</td>\n",
       "      <td>35</td>\n",
       "      <td>88</td>\n",
       "    </tr>\n",
       "    <tr>\n",
       "      <th>11</th>\n",
       "      <td>12</td>\n",
       "      <td>Mahima</td>\n",
       "      <td>Mathematics</td>\n",
       "      <td>50</td>\n",
       "      <td>43</td>\n",
       "      <td>86</td>\n",
       "    </tr>\n",
       "  </tbody>\n",
       "</table>\n",
       "</div>"
      ],
      "text/plain": [
       "     0        1            2   3   4   5\n",
       "0    1   Akshay  Mathematics  50  40  80\n",
       "1    2   Mahima      English  40  33  83\n",
       "2    3    Vikas  Mathematics  50  42  84\n",
       "3    4  Abhinav      English  40  31  78\n",
       "4    5   Mahima      Science  50  40  80\n",
       "5    6   Akshay      Science  50  49  98\n",
       "6    7  Abhinav  Mathematics  50  47  94\n",
       "7    8    Vikas      Science  50  40  80\n",
       "8    9  Abhinav      Science  50  47  94\n",
       "9   10    Vikas      English  40  39  98\n",
       "10  11   Akshay      English  40  35  88\n",
       "11  12   Mahima  Mathematics  50  43  86"
      ]
     },
     "execution_count": 19,
     "metadata": {},
     "output_type": "execute_result"
    }
   ],
   "source": [
    "# print the created dataframe\n",
    "import pandas as pd\n",
    "cars= pd.read_csv(\"marks_1.csv\", sep=\"|\", header= None)\n",
    "cars"
   ]
  },
  {
   "cell_type": "markdown",
   "metadata": {},
   "source": [
    "#### Importing CSV data files as pandas dataframes \n",
    "\n",
    "For the upcoming exercises, we will use a car dataset which holds the following information:\n",
    "\n",
    "- Region Code \n",
    "- Country\n",
    "- Coutry Code\n",
    "- Car per capita\n",
    "- Drives Right"
   ]
  },
  {
   "cell_type": "code",
   "execution_count": 3,
   "metadata": {},
   "outputs": [
    {
     "data": {
      "text/html": [
       "<div>\n",
       "<style scoped>\n",
       "    .dataframe tbody tr th:only-of-type {\n",
       "        vertical-align: middle;\n",
       "    }\n",
       "\n",
       "    .dataframe tbody tr th {\n",
       "        vertical-align: top;\n",
       "    }\n",
       "\n",
       "    .dataframe thead th {\n",
       "        text-align: right;\n",
       "    }\n",
       "</style>\n",
       "<table border=\"1\" class=\"dataframe\">\n",
       "  <thead>\n",
       "    <tr style=\"text-align: right;\">\n",
       "      <th></th>\n",
       "      <th>0</th>\n",
       "      <th>1</th>\n",
       "      <th>2</th>\n",
       "      <th>3</th>\n",
       "      <th>4</th>\n",
       "    </tr>\n",
       "  </thead>\n",
       "  <tbody>\n",
       "    <tr>\n",
       "      <th>0</th>\n",
       "      <td>USCA</td>\n",
       "      <td>US</td>\n",
       "      <td>United States</td>\n",
       "      <td>809.0</td>\n",
       "      <td>False</td>\n",
       "    </tr>\n",
       "    <tr>\n",
       "      <th>1</th>\n",
       "      <td>ASPAC</td>\n",
       "      <td>AUS</td>\n",
       "      <td>Australia</td>\n",
       "      <td>731.0</td>\n",
       "      <td>True</td>\n",
       "    </tr>\n",
       "    <tr>\n",
       "      <th>2</th>\n",
       "      <td>ASPAC</td>\n",
       "      <td>JAP</td>\n",
       "      <td>Japan</td>\n",
       "      <td>588.0</td>\n",
       "      <td>True</td>\n",
       "    </tr>\n",
       "    <tr>\n",
       "      <th>3</th>\n",
       "      <td>ASPAC</td>\n",
       "      <td>IN</td>\n",
       "      <td>India</td>\n",
       "      <td>18.0</td>\n",
       "      <td>True</td>\n",
       "    </tr>\n",
       "    <tr>\n",
       "      <th>4</th>\n",
       "      <td>ASPAC</td>\n",
       "      <td>RU</td>\n",
       "      <td>Russia</td>\n",
       "      <td>200.0</td>\n",
       "      <td>False</td>\n",
       "    </tr>\n",
       "    <tr>\n",
       "      <th>5</th>\n",
       "      <td>LATAM</td>\n",
       "      <td>MOR</td>\n",
       "      <td>Morocco</td>\n",
       "      <td>70.0</td>\n",
       "      <td>False</td>\n",
       "    </tr>\n",
       "    <tr>\n",
       "      <th>6</th>\n",
       "      <td>AFR</td>\n",
       "      <td>EG</td>\n",
       "      <td>Egypt</td>\n",
       "      <td>45.0</td>\n",
       "      <td>False</td>\n",
       "    </tr>\n",
       "    <tr>\n",
       "      <th>7</th>\n",
       "      <td>EUR</td>\n",
       "      <td>ENG</td>\n",
       "      <td>England</td>\n",
       "      <td>NaN</td>\n",
       "      <td>True</td>\n",
       "    </tr>\n",
       "  </tbody>\n",
       "</table>\n",
       "</div>"
      ],
      "text/plain": [
       "       0    1              2      3      4\n",
       "0   USCA   US  United States  809.0  False\n",
       "1  ASPAC  AUS      Australia  731.0   True\n",
       "2  ASPAC  JAP          Japan  588.0   True\n",
       "3  ASPAC   IN          India   18.0   True\n",
       "4  ASPAC   RU         Russia  200.0  False\n",
       "5  LATAM  MOR        Morocco   70.0  False\n",
       "6    AFR   EG          Egypt   45.0  False\n",
       "7    EUR  ENG        England    NaN   True"
      ]
     },
     "execution_count": 3,
     "metadata": {},
     "output_type": "execute_result"
    }
   ],
   "source": [
    "# read the data from the csv file\n",
    "import pandas as pd\n",
    "cars = pd.read_csv(\"cars.csv\", header=None)\n",
    "cars\n",
    "\n",
    "# check the dataframe created\n"
   ]
  },
  {
   "cell_type": "markdown",
   "metadata": {},
   "source": [
    "As you can see from the dataframe above, the first row has been taken as the column header for the dataframe. Let's see how to prevent that."
   ]
  },
  {
   "cell_type": "code",
   "execution_count": 2,
   "metadata": {},
   "outputs": [
    {
     "name": "stderr",
     "output_type": "stream",
     "text": [
      "C:\\Users\\utsav.jha\\Anaconda3\\lib\\site-packages\\ipykernel_launcher.py:5: UserWarning: Pandas doesn't allow columns to be created via a new attribute name - see https://pandas.pydata.org/pandas-docs/stable/indexing.html#attribute-access\n",
      "  \"\"\"\n"
     ]
    },
    {
     "data": {
      "text/html": [
       "<div>\n",
       "<style scoped>\n",
       "    .dataframe tbody tr th:only-of-type {\n",
       "        vertical-align: middle;\n",
       "    }\n",
       "\n",
       "    .dataframe tbody tr th {\n",
       "        vertical-align: top;\n",
       "    }\n",
       "\n",
       "    .dataframe thead th {\n",
       "        text-align: right;\n",
       "    }\n",
       "</style>\n",
       "<table border=\"1\" class=\"dataframe\">\n",
       "  <thead>\n",
       "    <tr style=\"text-align: right;\">\n",
       "      <th></th>\n",
       "      <th>0</th>\n",
       "      <th>2</th>\n",
       "      <th>3</th>\n",
       "      <th>4</th>\n",
       "    </tr>\n",
       "  </thead>\n",
       "  <tbody>\n",
       "    <tr>\n",
       "      <th>US</th>\n",
       "      <td>USCA</td>\n",
       "      <td>United States</td>\n",
       "      <td>809.0</td>\n",
       "      <td>False</td>\n",
       "    </tr>\n",
       "    <tr>\n",
       "      <th>AUS</th>\n",
       "      <td>ASPAC</td>\n",
       "      <td>Australia</td>\n",
       "      <td>731.0</td>\n",
       "      <td>True</td>\n",
       "    </tr>\n",
       "    <tr>\n",
       "      <th>JAP</th>\n",
       "      <td>ASPAC</td>\n",
       "      <td>Japan</td>\n",
       "      <td>588.0</td>\n",
       "      <td>True</td>\n",
       "    </tr>\n",
       "    <tr>\n",
       "      <th>IN</th>\n",
       "      <td>ASPAC</td>\n",
       "      <td>India</td>\n",
       "      <td>18.0</td>\n",
       "      <td>True</td>\n",
       "    </tr>\n",
       "    <tr>\n",
       "      <th>RU</th>\n",
       "      <td>ASPAC</td>\n",
       "      <td>Russia</td>\n",
       "      <td>200.0</td>\n",
       "      <td>False</td>\n",
       "    </tr>\n",
       "    <tr>\n",
       "      <th>MOR</th>\n",
       "      <td>LATAM</td>\n",
       "      <td>Morocco</td>\n",
       "      <td>70.0</td>\n",
       "      <td>False</td>\n",
       "    </tr>\n",
       "    <tr>\n",
       "      <th>EG</th>\n",
       "      <td>AFR</td>\n",
       "      <td>Egypt</td>\n",
       "      <td>45.0</td>\n",
       "      <td>False</td>\n",
       "    </tr>\n",
       "    <tr>\n",
       "      <th>ENG</th>\n",
       "      <td>EUR</td>\n",
       "      <td>England</td>\n",
       "      <td>NaN</td>\n",
       "      <td>True</td>\n",
       "    </tr>\n",
       "  </tbody>\n",
       "</table>\n",
       "</div>"
      ],
      "text/plain": [
       "         0              2      3      4\n",
       "US    USCA  United States  809.0  False\n",
       "AUS  ASPAC      Australia  731.0   True\n",
       "JAP  ASPAC          Japan  588.0   True\n",
       "IN   ASPAC          India   18.0   True\n",
       "RU   ASPAC         Russia  200.0  False\n",
       "MOR  LATAM        Morocco   70.0  False\n",
       "EG     AFR          Egypt   45.0  False\n",
       "ENG    EUR        England    NaN   True"
      ]
     },
     "execution_count": 2,
     "metadata": {},
     "output_type": "execute_result"
    }
   ],
   "source": [
    "# load the dataframe from the csv without any header\n",
    "import pandas as pd\n",
    "cars = pd.read_csv(\"cars.csv\", header=None, index_col=1)\n",
    "cars.index.name = None # for deleting the index number of column 1 \n",
    "cars.column= [\"region code\", \"region\", \"country\", \"drive_right\"]\n",
    "\n",
    "cars\n"
   ]
  },
  {
   "cell_type": "code",
   "execution_count": 4,
   "metadata": {},
   "outputs": [
    {
     "data": {
      "text/html": [
       "<div>\n",
       "<style scoped>\n",
       "    .dataframe tbody tr th:only-of-type {\n",
       "        vertical-align: middle;\n",
       "    }\n",
       "\n",
       "    .dataframe tbody tr th {\n",
       "        vertical-align: top;\n",
       "    }\n",
       "\n",
       "    .dataframe thead th {\n",
       "        text-align: right;\n",
       "    }\n",
       "</style>\n",
       "<table border=\"1\" class=\"dataframe\">\n",
       "  <thead>\n",
       "    <tr style=\"text-align: right;\">\n",
       "      <th></th>\n",
       "      <th>Region</th>\n",
       "      <th>country</th>\n",
       "      <th>cars</th>\n",
       "      <th>drive_right</th>\n",
       "    </tr>\n",
       "  </thead>\n",
       "  <tbody>\n",
       "    <tr>\n",
       "      <th>US</th>\n",
       "      <td>USCA</td>\n",
       "      <td>United States</td>\n",
       "      <td>809.0</td>\n",
       "      <td>False</td>\n",
       "    </tr>\n",
       "    <tr>\n",
       "      <th>AUS</th>\n",
       "      <td>ASPAC</td>\n",
       "      <td>Australia</td>\n",
       "      <td>731.0</td>\n",
       "      <td>True</td>\n",
       "    </tr>\n",
       "    <tr>\n",
       "      <th>JAP</th>\n",
       "      <td>ASPAC</td>\n",
       "      <td>Japan</td>\n",
       "      <td>588.0</td>\n",
       "      <td>True</td>\n",
       "    </tr>\n",
       "    <tr>\n",
       "      <th>IN</th>\n",
       "      <td>ASPAC</td>\n",
       "      <td>India</td>\n",
       "      <td>18.0</td>\n",
       "      <td>True</td>\n",
       "    </tr>\n",
       "    <tr>\n",
       "      <th>RU</th>\n",
       "      <td>ASPAC</td>\n",
       "      <td>Russia</td>\n",
       "      <td>200.0</td>\n",
       "      <td>False</td>\n",
       "    </tr>\n",
       "    <tr>\n",
       "      <th>MOR</th>\n",
       "      <td>LATAM</td>\n",
       "      <td>Morocco</td>\n",
       "      <td>70.0</td>\n",
       "      <td>False</td>\n",
       "    </tr>\n",
       "    <tr>\n",
       "      <th>EG</th>\n",
       "      <td>AFR</td>\n",
       "      <td>Egypt</td>\n",
       "      <td>45.0</td>\n",
       "      <td>False</td>\n",
       "    </tr>\n",
       "    <tr>\n",
       "      <th>ENG</th>\n",
       "      <td>EUR</td>\n",
       "      <td>England</td>\n",
       "      <td>NaN</td>\n",
       "      <td>True</td>\n",
       "    </tr>\n",
       "  </tbody>\n",
       "</table>\n",
       "</div>"
      ],
      "text/plain": [
       "    Region        country   cars  drive_right\n",
       "US    USCA  United States  809.0        False\n",
       "AUS  ASPAC      Australia  731.0         True\n",
       "JAP  ASPAC          Japan  588.0         True\n",
       "IN   ASPAC          India   18.0         True\n",
       "RU   ASPAC         Russia  200.0        False\n",
       "MOR  LATAM        Morocco   70.0        False\n",
       "EG     AFR          Egypt   45.0        False\n",
       "ENG    EUR        England    NaN         True"
      ]
     },
     "execution_count": 4,
     "metadata": {},
     "output_type": "execute_result"
    }
   ],
   "source": [
    "\n",
    "cars.columns=[\"Region\",\"country\",\"cars\", \"drive_right\"]\n",
    "cars\n"
   ]
  },
  {
   "cell_type": "code",
   "execution_count": 9,
   "metadata": {},
   "outputs": [
    {
     "data": {
      "text/html": [
       "<div>\n",
       "<style scoped>\n",
       "    .dataframe tbody tr th:only-of-type {\n",
       "        vertical-align: middle;\n",
       "    }\n",
       "\n",
       "    .dataframe tbody tr th {\n",
       "        vertical-align: top;\n",
       "    }\n",
       "\n",
       "    .dataframe thead th {\n",
       "        text-align: right;\n",
       "    }\n",
       "</style>\n",
       "<table border=\"1\" class=\"dataframe\">\n",
       "  <thead>\n",
       "    <tr style=\"text-align: right;\">\n",
       "      <th></th>\n",
       "      <th></th>\n",
       "      <th>2</th>\n",
       "      <th>3</th>\n",
       "      <th>4</th>\n",
       "    </tr>\n",
       "    <tr>\n",
       "      <th>region</th>\n",
       "      <th>region_code</th>\n",
       "      <th></th>\n",
       "      <th></th>\n",
       "      <th></th>\n",
       "    </tr>\n",
       "  </thead>\n",
       "  <tbody>\n",
       "    <tr>\n",
       "      <th>USCA</th>\n",
       "      <th>US</th>\n",
       "      <td>United States</td>\n",
       "      <td>809.0</td>\n",
       "      <td>False</td>\n",
       "    </tr>\n",
       "    <tr>\n",
       "      <th rowspan=\"4\" valign=\"top\">ASPAC</th>\n",
       "      <th>AUS</th>\n",
       "      <td>Australia</td>\n",
       "      <td>731.0</td>\n",
       "      <td>True</td>\n",
       "    </tr>\n",
       "    <tr>\n",
       "      <th>JAP</th>\n",
       "      <td>Japan</td>\n",
       "      <td>588.0</td>\n",
       "      <td>True</td>\n",
       "    </tr>\n",
       "    <tr>\n",
       "      <th>IN</th>\n",
       "      <td>India</td>\n",
       "      <td>18.0</td>\n",
       "      <td>True</td>\n",
       "    </tr>\n",
       "    <tr>\n",
       "      <th>RU</th>\n",
       "      <td>Russia</td>\n",
       "      <td>200.0</td>\n",
       "      <td>False</td>\n",
       "    </tr>\n",
       "    <tr>\n",
       "      <th>LATAM</th>\n",
       "      <th>MOR</th>\n",
       "      <td>Morocco</td>\n",
       "      <td>70.0</td>\n",
       "      <td>False</td>\n",
       "    </tr>\n",
       "    <tr>\n",
       "      <th>AFR</th>\n",
       "      <th>EG</th>\n",
       "      <td>Egypt</td>\n",
       "      <td>45.0</td>\n",
       "      <td>False</td>\n",
       "    </tr>\n",
       "    <tr>\n",
       "      <th>EUR</th>\n",
       "      <th>ENG</th>\n",
       "      <td>England</td>\n",
       "      <td>NaN</td>\n",
       "      <td>True</td>\n",
       "    </tr>\n",
       "  </tbody>\n",
       "</table>\n",
       "</div>"
      ],
      "text/plain": [
       "                                2      3      4\n",
       "region region_code                             \n",
       "USCA   US           United States  809.0  False\n",
       "ASPAC  AUS              Australia  731.0   True\n",
       "       JAP                  Japan  588.0   True\n",
       "       IN                   India   18.0   True\n",
       "       RU                  Russia  200.0  False\n",
       "LATAM  MOR                Morocco   70.0  False\n",
       "AFR    EG                   Egypt   45.0  False\n",
       "EUR    ENG                England    NaN   True"
      ]
     },
     "execution_count": 9,
     "metadata": {},
     "output_type": "execute_result"
    }
   ],
   "source": [
    "cars= pd.read_csv(\"cars.csv\", header=None, index_col=[0,1])\n",
    "cars.index.names=[\"region\", \"region_code\"]\n",
    "cars"
   ]
  },
  {
   "cell_type": "code",
   "execution_count": 26,
   "metadata": {},
   "outputs": [
    {
     "name": "stdout",
     "output_type": "stream",
     "text": [
      "4\n"
     ]
    },
    {
     "data": {
      "text/plain": [
       "1     1\n",
       "2     4\n",
       "3     9\n",
       "4    16\n",
       "dtype: int64"
      ]
     },
     "execution_count": 26,
     "metadata": {},
     "output_type": "execute_result"
    }
   ],
   "source": [
    "import numpy as np\n",
    "import pandas as pd\n",
    "n=int(input())\n",
    "list1=[]\n",
    "list2=[]\n",
    "for i in range(1,n+1):\n",
    "    list1.append(i)\n",
    "    list2.append(i*i)\n",
    "\n",
    "squ=pd.Series(list2, list1)\n",
    "squ"
   ]
  },
  {
   "cell_type": "code",
   "execution_count": 42,
   "metadata": {},
   "outputs": [
    {
     "name": "stdout",
     "output_type": "stream",
     "text": [
      "          name      Subject  Maximum Marks  Marks Obtained  Percentage\n",
      "S.No.                                                                 \n",
      "1       Akshay  Mathematics             50              40          80\n",
      "2       Mahima      English             40              33          83\n",
      "3        Vikas  Mathematics             50              42          84\n",
      "4      Abhinav      English             40              31          78\n",
      "5       Mahima      Science             50              40          80\n",
      "6       Akshay      Science             50              49          98\n",
      "7      Abhinav  Mathematics             50              47          94\n",
      "8        Vikas      Science             50              40          80\n",
      "9      Abhinav      Science             50              47          94\n",
      "10       Vikas      English             40              39          98\n",
      "11      Akshay      English             40              35          88\n",
      "12      Mahima  Mathematics             50              43          86\n"
     ]
    }
   ],
   "source": [
    "import pandas as pd\n",
    "marks=pd.read_csv(\"marks_1.csv\", sep=\"|\",header = None, index_col=0)\n",
    "marks.index.name=\"S.No.\"\n",
    "marks.columns=[\"name\", \"Subject\",\"Maximum Marks\", \"Marks Obtained\",\"Percentage\"]\n",
    "print(marks)"
   ]
  },
  {
   "cell_type": "code",
   "execution_count": 41,
   "metadata": {},
   "outputs": [
    {
     "name": "stdout",
     "output_type": "stream",
     "text": [
      "             1            2   3   4   5\n",
      "S.No.                                  \n",
      "1       Akshay  Mathematics  50  40  80\n",
      "2       Mahima      English  40  33  83\n",
      "3        Vikas  Mathematics  50  42  84\n",
      "4      Abhinav      English  40  31  78\n",
      "5       Mahima      Science  50  40  80\n",
      "6       Akshay      Science  50  49  98\n",
      "7      Abhinav  Mathematics  50  47  94\n",
      "8        Vikas      Science  50  40  80\n",
      "9      Abhinav      Science  50  47  94\n",
      "10       Vikas      English  40  39  98\n",
      "11      Akshay      English  40  35  88\n",
      "12      Mahima  Mathematics  50  43  86\n"
     ]
    }
   ],
   "source": [
    "marks.column=[\"Name\", \"Subject\",\"Maximum Marks\", \"Marks Obtained\",\"Percentage\"]\n",
    "print(marks)"
   ]
  },
  {
   "cell_type": "markdown",
   "metadata": {},
   "source": [
    " "
   ]
  },
  {
   "cell_type": "markdown",
   "metadata": {},
   "source": [
    "## Python Libraries - Pandas - Rows and Columns"
   ]
  },
  {
   "cell_type": "markdown",
   "metadata": {},
   "source": [
    "### Indices and Labels"
   ]
  },
  {
   "cell_type": "markdown",
   "metadata": {},
   "source": [
    "#### Indices \n",
    "\n",
    "An important concept in pandas dataframes is that of *row indices*. By default, each row is assigned indices starting from 0, and are represented at the left side of the dataframe. \n",
    "\n",
    "Now, arbitrary numeric indices are difficult to read and work with. Thus, you may want to change the indices of the dataframe to something more meanigful.\n",
    "\n",
    "Let's change the index to the second column which stores the country codes, so that you can select rows using the country code directly."
   ]
  },
  {
   "cell_type": "code",
   "execution_count": null,
   "metadata": {},
   "outputs": [],
   "source": [
    "# load the data into a dataframe with no header and index column as the second column\n",
    "cars = \n",
    "\n",
    "# Check the created dataframe\n"
   ]
  },
  {
   "cell_type": "code",
   "execution_count": null,
   "metadata": {},
   "outputs": [],
   "source": [
    "# Print the label of the index column\n"
   ]
  },
  {
   "cell_type": "code",
   "execution_count": 21,
   "metadata": {},
   "outputs": [],
   "source": [
    "# Remove the label of the index column\n"
   ]
  },
  {
   "cell_type": "code",
   "execution_count": null,
   "metadata": {},
   "outputs": [],
   "source": [
    "# Check the created dataframe\n"
   ]
  },
  {
   "cell_type": "markdown",
   "metadata": {},
   "source": [
    "Having meaningful row labels as indices helps you to select (subset) dataframes easily. You will study selecting dataframes in the next section. Let's now try to change the column headers."
   ]
  },
  {
   "cell_type": "markdown",
   "metadata": {},
   "source": [
    "#### Column headers"
   ]
  },
  {
   "cell_type": "code",
   "execution_count": null,
   "metadata": {},
   "outputs": [],
   "source": [
    "# Print the column headers of the dataframe\n"
   ]
  },
  {
   "cell_type": "code",
   "execution_count": null,
   "metadata": {},
   "outputs": [],
   "source": [
    "# Change the label of each column\n",
    "\n",
    "\n",
    "# Check the created dataframe\n"
   ]
  },
  {
   "cell_type": "markdown",
   "metadata": {},
   "source": [
    "Without the labels, it will be very difficult to remember the information stored in the columns. Now you can easily make sense from the entries stored in the dataframe. Let's now try to define multiple indices in a dataframe."
   ]
  },
  {
   "cell_type": "markdown",
   "metadata": {},
   "source": [
    "#### Multi-indexing in Pandas"
   ]
  },
  {
   "cell_type": "code",
   "execution_count": null,
   "metadata": {},
   "outputs": [],
   "source": [
    "# Import the data from a csv file with multiple indices\n",
    "cars = \n",
    "\n",
    "# Check the created dataframe\n"
   ]
  },
  {
   "cell_type": "code",
   "execution_count": null,
   "metadata": {},
   "outputs": [],
   "source": [
    "# Change the column names as above\n",
    "\n",
    "\n",
    "# Check the created dataframe\n"
   ]
  },
  {
   "cell_type": "code",
   "execution_count": null,
   "metadata": {},
   "outputs": [],
   "source": [
    "# Print the index labels\n"
   ]
  },
  {
   "cell_type": "code",
   "execution_count": null,
   "metadata": {},
   "outputs": [],
   "source": [
    "# Change the index labels: 0 - Region_code, 1 - Country_code\n",
    "\n",
    "\n",
    "# Check the created dataframe\n"
   ]
  },
  {
   "cell_type": "code",
   "execution_count": null,
   "metadata": {},
   "outputs": [],
   "source": [
    "# Print the inforamtion of the index in the dataframe\n"
   ]
  },
  {
   "cell_type": "markdown",
   "metadata": {},
   "source": [
    "Multi-indexing is very useful to establish a hierarchy in the entries. It helps to segregate data into different categories and makes it easier to analyse the data."
   ]
  }
 ],
 "metadata": {
  "kernelspec": {
   "display_name": "Python 3 (ipykernel)",
   "language": "python",
   "name": "python3"
  },
  "language_info": {
   "codemirror_mode": {
    "name": "ipython",
    "version": 3
   },
   "file_extension": ".py",
   "mimetype": "text/x-python",
   "name": "python",
   "nbconvert_exporter": "python",
   "pygments_lexer": "ipython3",
   "version": "3.11.5"
  }
 },
 "nbformat": 4,
 "nbformat_minor": 2
}
