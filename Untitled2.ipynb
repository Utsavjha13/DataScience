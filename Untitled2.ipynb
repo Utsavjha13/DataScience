{
 "cells": [
  {
   "cell_type": "code",
   "execution_count": 16,
   "metadata": {},
   "outputs": [
    {
     "name": "stdout",
     "output_type": "stream",
     "text": [
      "Enter the no: 8760980350\n",
      "Number of zero is  3\n",
      "Number of Even number is  3\n",
      "Number of odd number is  4\n"
     ]
    }
   ],
   "source": [
    "#Write A program to accept  Four digit number from user and count zero , odd and even digits from the entered number.\n",
    "user_inp= int(input(\"Enter the no: \"))\n",
    "a=len(str(user_inp))\n",
    "zero_count=0\n",
    "eve_count=0\n",
    "odd_count=0\n",
    "i=0\n",
    "while i<a:\n",
    "    rem= user_inp%10\n",
    "    user_inp=user_inp//10\n",
    "    if rem != 0:\n",
    "        if rem%2==0:\n",
    "            eve_count +=1\n",
    "        else:\n",
    "            odd_count +=1\n",
    "    else:\n",
    "        zero_count +=1\n",
    "    i +=1\n",
    "\n",
    "print (\"Number of zero is \",zero_count)\n",
    "print (\"Number of Even number is \",eve_count)\n",
    "print (\"Number of odd number is \",odd_count)\n",
    "        "
   ]
  },
  {
   "cell_type": "code",
   "execution_count": 18,
   "metadata": {},
   "outputs": [
    {
     "name": "stdout",
     "output_type": "stream",
     "text": [
      "Enter the number :32\n",
      "Enter the number :46\n",
      "Enter the number :568\n",
      "Enter the number :54\n",
      "Enter the number :23\n",
      "max of array : 568\n",
      "Min of array : 23\n"
     ]
    }
   ],
   "source": [
    "\"\"\"\"Write a   program to accept ‘n’ numbers from user , store these numbers into an array. \n",
    "Find out maximum and minimum number from an Array.\"\"\"\n",
    "i=0\n",
    "list1=[]\n",
    "while i<5:\n",
    "    list1.append(int(input(\"Enter the number :\")))\n",
    "    i+=1\n",
    "print(\"max of array :\", max(list1))\n",
    "print(\"Min of array :\", min(list1))\n"
   ]
  },
  {
   "cell_type": "code",
   "execution_count": 11,
   "metadata": {},
   "outputs": [
    {
     "name": "stdout",
     "output_type": "stream",
     "text": [
      "ADD BOOK INFORMATION-->Enter 1\n",
      "DISPLAY BOOK INFORMATION-->Enter 2\n",
      "LIST ALL BOOKS OF GIVEN AUTHOR-->Enter 3\n",
      "LIST THE COUNT OF BOOKS IN THE LIBRARY-->Enter 4\n",
      "EXIT-->Enter 5\n",
      "Input your option: 5\n",
      "Quit\n"
     ]
    }
   ],
   "source": [
    "\"\"\"Write a menu driven program  that shows the working of a library. The menu option should be \n",
    "--ADD BOOK INFORMATION\n",
    "--DISPLAY BOOK INFORMATION\n",
    "--LIST ALL BOOKS OF GIVEN AUTHOR \n",
    "--LIST THE COUNT OF BOOKS IN THE LIBRARY\n",
    "--EXIT\n",
    "\"\"\"\n",
    "def library():\n",
    "    dict1={\"R P N Singh\":\"Politics of Opportunism\",\"Akkitham Achuthan Namboodri\":\"Malayalam poetry\",\"Margaret Atwood\":\"The Testaments\",\"Jokha Alharthi\":\"Celestial Bodies\",\"Vasdev Mohi\":\"Cheque book\"}\n",
    "    print(\"ADD BOOK INFORMATION-->Enter 1\")\n",
    "    print(\"DISPLAY BOOK INFORMATION-->Enter 2\")\n",
    "    print(\"LIST ALL BOOKS OF GIVEN AUTHOR-->Enter 3\")\n",
    "    print(\"LIST THE COUNT OF BOOKS IN THE LIBRARY-->Enter 4\")\n",
    "    print(\"EXIT-->Enter 5\")\n",
    "    i= int(input(\"Input your option: \"))\n",
    "    if i==1:\n",
    "        author= input(\"Enter author name :\")\n",
    "        book=input(\"Enter book name: \")\n",
    "        dict1[author]=book\n",
    "#         dict1.update({author, book})\n",
    "    elif i==2:\n",
    "        print(\" Here is book list : \", dict1.values())\n",
    "    elif i==3:\n",
    "        author_name=input(\"enter the Author name :\")\n",
    "        print(\"Book list :\", dict1.get(author_name, \"Not Found\"))\n",
    "    elif i==4:\n",
    "        a= len(list(dict1.values()))\n",
    "        print(\"No of books in the library is : \",a)\n",
    "    elif i==5:\n",
    "        print(\"Quit\")\n",
    "        \n",
    "library()"
   ]
  },
  {
   "cell_type": "code",
   "execution_count": null,
   "metadata": {},
   "outputs": [],
   "source": []
  },
  {
   "cell_type": "code",
   "execution_count": null,
   "metadata": {},
   "outputs": [],
   "source": []
  }
 ],
 "metadata": {
  "kernelspec": {
   "display_name": "Python 3",
   "language": "python",
   "name": "python3"
  },
  "language_info": {
   "codemirror_mode": {
    "name": "ipython",
    "version": 3
   },
   "file_extension": ".py",
   "mimetype": "text/x-python",
   "name": "python",
   "nbconvert_exporter": "python",
   "pygments_lexer": "ipython3",
   "version": "3.7.6"
  }
 },
 "nbformat": 4,
 "nbformat_minor": 4
}
